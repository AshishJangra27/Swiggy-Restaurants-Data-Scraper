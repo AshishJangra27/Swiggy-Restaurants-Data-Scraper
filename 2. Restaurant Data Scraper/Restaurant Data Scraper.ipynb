{
 "cells": [
  {
   "cell_type": "code",
   "execution_count": 1,
   "id": "bf9d7403",
   "metadata": {},
   "outputs": [],
   "source": [
    "import json\n",
    "import requests\n",
    "from tqdm import tqdm\n",
    "from bs4 import BeautifulSoup"
   ]
  },
  {
   "cell_type": "code",
   "execution_count": 2,
   "id": "dde12bc5",
   "metadata": {},
   "outputs": [],
   "source": [
    "def scrape_rest(main_link):\n",
    "    r = {}\n",
    "    try:\n",
    "        for page in range(1,50000):\n",
    "            link = main_link + '?page=' + str(page)\n",
    "            soup = BeautifulSoup(requests.get(link).content,'html.parser')\n",
    "            for rest in soup.find('div', class_ = '_129-b').find_all('div', class_ = '_3XX_A'):\n",
    "\n",
    "                link_   = rest.find('a').get('href').split('/')[-1]                           # Restaurant Link\n",
    "                id_     = rest.find('a').get('href').split('-')[-1]                           # Restaurant ID\n",
    "                name_   = rest.find('div', class_ = 'nA6kb').text                             # Restaurant Name\n",
    "                type_   = rest.find('div', class_ = '_1gURR').text                            # Type\n",
    "                rating_ = rest.find('div', class_ = '_3Mn31').find_all('div')[0].text         # Rating\n",
    "                price_  = rest.find('div', class_ = '_3Mn31').find_all('div')[-1].text        # Price\n",
    "\n",
    "                r[id_] = {\"name\" : name_, \"type\" : type_, \"rating\" : rating_, \"price\" : price_ , \"link\" : link_}\n",
    "\n",
    "    except:\n",
    "        pass\n",
    "    \n",
    "    return r"
   ]
  },
  {
   "cell_type": "code",
   "execution_count": 3,
   "id": "c365e7ff",
   "metadata": {},
   "outputs": [],
   "source": [
    "fd = open('cities.json','r')\n",
    "dct = json.loads(fd.read())\n",
    "fd.close()"
   ]
  },
  {
   "cell_type": "code",
   "execution_count": 4,
   "id": "144d5dd9",
   "metadata": {
    "scrolled": true
   },
   "outputs": [
    {
     "name": "stderr",
     "output_type": "stream",
     "text": [
      "100%|███████████████████████████████████████| 623/623 [1:55:38<00:00, 11.14s/it]\n"
     ]
    }
   ],
   "source": [
    "c = 0\n",
    "\n",
    "for i in tqdm(dct.keys()):\n",
    "    if (str(type(dct[i])) == \"<class 'str'>\"):\n",
    "        link = dct[i]\n",
    "        dct[i] = {'link' : dct[i], 'restaurants' : scrape_rest(link)}      \n",
    "        \n",
    "    else:\n",
    "\n",
    "        temp = {}\n",
    "        for j in dct[i].keys(): \n",
    "            temp[j] = {'link' : dct[i][j] ,'restaurants' : scrape_rest(dct[i][j])}\n",
    "        dct[i] = temp\n",
    "    \n",
    "    c += 1"
   ]
  },
  {
   "cell_type": "code",
   "execution_count": 6,
   "id": "8b66c97e",
   "metadata": {},
   "outputs": [],
   "source": [
    "fd = open('rest.json','w')\n",
    "fd.write(json.dumps(dct))\n",
    "fd.close()"
   ]
  }
 ],
 "metadata": {
  "kernelspec": {
   "display_name": "Python 3 (ipykernel)",
   "language": "python",
   "name": "python3"
  },
  "language_info": {
   "codemirror_mode": {
    "name": "ipython",
    "version": 3
   },
   "file_extension": ".py",
   "mimetype": "text/x-python",
   "name": "python",
   "nbconvert_exporter": "python",
   "pygments_lexer": "ipython3",
   "version": "3.9.7"
  }
 },
 "nbformat": 4,
 "nbformat_minor": 5
}
